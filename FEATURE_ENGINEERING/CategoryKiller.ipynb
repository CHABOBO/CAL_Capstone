{
 "cells": [
  {
   "cell_type": "code",
   "execution_count": 1,
   "metadata": {},
   "outputs": [],
   "source": [
    "import pandas as pd"
   ]
  },
  {
   "cell_type": "code",
   "execution_count": 2,
   "metadata": {},
   "outputs": [
    {
     "name": "stderr",
     "output_type": "stream",
     "text": [
      "/Users/SullY/anaconda/envs/python3/lib/python3.5/site-packages/IPython/core/interactiveshell.py:2802: DtypeWarning: Columns (5,205,206,256) have mixed types. Specify dtype option on import or set low_memory=False.\n",
      "  if self.run_code(code, result):\n"
     ]
    },
    {
     "data": {
      "text/html": [
       "<div>\n",
       "<style>\n",
       "    .dataframe thead tr:only-child th {\n",
       "        text-align: right;\n",
       "    }\n",
       "\n",
       "    .dataframe thead th {\n",
       "        text-align: left;\n",
       "    }\n",
       "\n",
       "    .dataframe tbody tr th {\n",
       "        vertical-align: top;\n",
       "    }\n",
       "</style>\n",
       "<table border=\"1\" class=\"dataframe\">\n",
       "  <thead>\n",
       "    <tr style=\"text-align: right;\">\n",
       "      <th></th>\n",
       "      <th>encounter_id</th>\n",
       "      <th>time</th>\n",
       "      <th>loc_cat</th>\n",
       "      <th>unit1</th>\n",
       "      <th>unit2</th>\n",
       "      <th>IVF_meds</th>\n",
       "      <th>IVF_volume</th>\n",
       "      <th>IV_intake</th>\n",
       "      <th>avpu</th>\n",
       "      <th>avpu_old</th>\n",
       "      <th>...</th>\n",
       "      <th>gcs_score_sofa</th>\n",
       "      <th>creatinine_sofa</th>\n",
       "      <th>sofa_resp</th>\n",
       "      <th>sofa_coag</th>\n",
       "      <th>sofa_bili</th>\n",
       "      <th>sofa_card</th>\n",
       "      <th>sofa_gcs</th>\n",
       "      <th>sofa_cr</th>\n",
       "      <th>sofa_score</th>\n",
       "      <th>immuno_group</th>\n",
       "    </tr>\n",
       "  </thead>\n",
       "  <tbody>\n",
       "    <tr>\n",
       "      <th>0</th>\n",
       "      <td>155164</td>\n",
       "      <td>25apr2013 22:36:00</td>\n",
       "      <td>WARD</td>\n",
       "      <td>T3SW</td>\n",
       "      <td>NaN</td>\n",
       "      <td>NaN</td>\n",
       "      <td>NaN</td>\n",
       "      <td>NaN</td>\n",
       "      <td>NaN</td>\n",
       "      <td>NaN</td>\n",
       "      <td>...</td>\n",
       "      <td>15</td>\n",
       "      <td>0.9</td>\n",
       "      <td>4</td>\n",
       "      <td>0</td>\n",
       "      <td>0</td>\n",
       "      <td>0</td>\n",
       "      <td>0</td>\n",
       "      <td>0</td>\n",
       "      <td>4</td>\n",
       "      <td>0</td>\n",
       "    </tr>\n",
       "    <tr>\n",
       "      <th>1</th>\n",
       "      <td>155164</td>\n",
       "      <td>26apr2013 17:00:00</td>\n",
       "      <td>WARD</td>\n",
       "      <td>TS356 (room 117)</td>\n",
       "      <td>NaN</td>\n",
       "      <td>NaN</td>\n",
       "      <td>100.0</td>\n",
       "      <td>NaN</td>\n",
       "      <td>NaN</td>\n",
       "      <td>NaN</td>\n",
       "      <td>...</td>\n",
       "      <td>15</td>\n",
       "      <td>0.9</td>\n",
       "      <td>4</td>\n",
       "      <td>0</td>\n",
       "      <td>0</td>\n",
       "      <td>0</td>\n",
       "      <td>1</td>\n",
       "      <td>0</td>\n",
       "      <td>5</td>\n",
       "      <td>0</td>\n",
       "    </tr>\n",
       "    <tr>\n",
       "      <th>2</th>\n",
       "      <td>155164</td>\n",
       "      <td>26apr2013 05:18:00</td>\n",
       "      <td>WARD</td>\n",
       "      <td>TS356 (room 117)</td>\n",
       "      <td>NaN</td>\n",
       "      <td>NaN</td>\n",
       "      <td>NaN</td>\n",
       "      <td>NaN</td>\n",
       "      <td>NaN</td>\n",
       "      <td>NaN</td>\n",
       "      <td>...</td>\n",
       "      <td>15</td>\n",
       "      <td>0.9</td>\n",
       "      <td>4</td>\n",
       "      <td>0</td>\n",
       "      <td>0</td>\n",
       "      <td>0</td>\n",
       "      <td>0</td>\n",
       "      <td>0</td>\n",
       "      <td>4</td>\n",
       "      <td>0</td>\n",
       "    </tr>\n",
       "    <tr>\n",
       "      <th>3</th>\n",
       "      <td>155164</td>\n",
       "      <td>26apr2013 14:32:00</td>\n",
       "      <td>WARD</td>\n",
       "      <td>NaN</td>\n",
       "      <td>NaN</td>\n",
       "      <td>NaN</td>\n",
       "      <td>NaN</td>\n",
       "      <td>NaN</td>\n",
       "      <td>NaN</td>\n",
       "      <td>NaN</td>\n",
       "      <td>...</td>\n",
       "      <td>15</td>\n",
       "      <td>0.9</td>\n",
       "      <td>4</td>\n",
       "      <td>0</td>\n",
       "      <td>0</td>\n",
       "      <td>0</td>\n",
       "      <td>1</td>\n",
       "      <td>0</td>\n",
       "      <td>5</td>\n",
       "      <td>0</td>\n",
       "    </tr>\n",
       "    <tr>\n",
       "      <th>4</th>\n",
       "      <td>155164</td>\n",
       "      <td>26apr2013 02:49:00</td>\n",
       "      <td>WARD</td>\n",
       "      <td>NaN</td>\n",
       "      <td>NaN</td>\n",
       "      <td>NaN</td>\n",
       "      <td>NaN</td>\n",
       "      <td>NaN</td>\n",
       "      <td>NaN</td>\n",
       "      <td>NaN</td>\n",
       "      <td>...</td>\n",
       "      <td>15</td>\n",
       "      <td>0.9</td>\n",
       "      <td>4</td>\n",
       "      <td>0</td>\n",
       "      <td>0</td>\n",
       "      <td>0</td>\n",
       "      <td>0</td>\n",
       "      <td>0</td>\n",
       "      <td>4</td>\n",
       "      <td>0</td>\n",
       "    </tr>\n",
       "  </tbody>\n",
       "</table>\n",
       "<p>5 rows × 405 columns</p>\n",
       "</div>"
      ],
      "text/plain": [
       "   encounter_id                time loc_cat             unit1 unit2  IVF_meds  \\\n",
       "0        155164  25apr2013 22:36:00    WARD              T3SW   NaN       NaN   \n",
       "1        155164  26apr2013 17:00:00    WARD  TS356 (room 117)   NaN       NaN   \n",
       "2        155164  26apr2013 05:18:00    WARD  TS356 (room 117)   NaN       NaN   \n",
       "3        155164  26apr2013 14:32:00    WARD               NaN   NaN       NaN   \n",
       "4        155164  26apr2013 02:49:00    WARD               NaN   NaN       NaN   \n",
       "\n",
       "   IVF_volume  IV_intake  avpu  avpu_old      ...       gcs_score_sofa  \\\n",
       "0         NaN        NaN   NaN       NaN      ...                   15   \n",
       "1       100.0        NaN   NaN       NaN      ...                   15   \n",
       "2         NaN        NaN   NaN       NaN      ...                   15   \n",
       "3         NaN        NaN   NaN       NaN      ...                   15   \n",
       "4         NaN        NaN   NaN       NaN      ...                   15   \n",
       "\n",
       "   creatinine_sofa  sofa_resp  sofa_coag  sofa_bili  sofa_card  sofa_gcs  \\\n",
       "0              0.9          4          0          0          0         0   \n",
       "1              0.9          4          0          0          0         1   \n",
       "2              0.9          4          0          0          0         0   \n",
       "3              0.9          4          0          0          0         1   \n",
       "4              0.9          4          0          0          0         0   \n",
       "\n",
       "   sofa_cr  sofa_score  immuno_group  \n",
       "0        0           4             0  \n",
       "1        0           5             0  \n",
       "2        0           4             0  \n",
       "3        0           5             0  \n",
       "4        0           4             0  \n",
       "\n",
       "[5 rows x 405 columns]"
      ]
     },
     "execution_count": 2,
     "metadata": {},
     "output_type": "execute_result"
    }
   ],
   "source": [
    "sepsis_data = pd.DataFrame.from_csv('partial_data.csv', index_col=None)\n",
    "sepsis_data = sepsis_data.drop(sepsis_data.columns[0], axis=1)\n",
    "sepsis_data.head()"
   ]
  },
  {
   "cell_type": "markdown",
   "metadata": {},
   "source": [
    "### Sex"
   ]
  },
  {
   "cell_type": "code",
   "execution_count": 3,
   "metadata": {},
   "outputs": [
    {
     "data": {
      "text/plain": [
       "array(['F', 'M', nan], dtype=object)"
      ]
     },
     "execution_count": 3,
     "metadata": {},
     "output_type": "execute_result"
    }
   ],
   "source": [
    "#Sex Categorization\n",
    "\n",
    "sepsis_data.sex.unique()"
   ]
  },
  {
   "cell_type": "code",
   "execution_count": 4,
   "metadata": {},
   "outputs": [],
   "source": [
    "def sex(input_str):\n",
    "    input_str = str(input_str)\n",
    "    if input_str != \"\" and input_str.lower() == 'f':\n",
    "        return 0\n",
    "    elif input_str != \"\" and input_str.lower() == 'm':\n",
    "        return 1"
   ]
  },
  {
   "cell_type": "code",
   "execution_count": 5,
   "metadata": {},
   "outputs": [],
   "source": [
    "sepsis_data[\"Category_Sex\"] = 0\n",
    "sepsis_data.loc[:, 'Category_Sex'] = sepsis_data.sex.apply(sex)"
   ]
  },
  {
   "cell_type": "code",
   "execution_count": 6,
   "metadata": {},
   "outputs": [],
   "source": [
    "#sepsis_data[\"sex\"][(sepsis_data[\"sex\"].notnull())].head(500)"
   ]
  },
  {
   "cell_type": "code",
   "execution_count": 7,
   "metadata": {},
   "outputs": [],
   "source": [
    "#sepsis_data[\"Category Sex\"][(sepsis_data[\"Category Sex\"].notnull())].head(50)"
   ]
  },
  {
   "cell_type": "markdown",
   "metadata": {},
   "source": [
    "### Race"
   ]
  },
  {
   "cell_type": "code",
   "execution_count": 8,
   "metadata": {},
   "outputs": [
    {
     "data": {
      "text/plain": [
       "array(['White', 'Black/African-American', nan, 'Unknown',\n",
       "       'Asian/Mideast Indian', 'Native Hawaiian/Other Pacific Islander',\n",
       "       'More than one Race'], dtype=object)"
      ]
     },
     "execution_count": 8,
     "metadata": {},
     "output_type": "execute_result"
    }
   ],
   "source": [
    "#Race Categorization\n",
    "\n",
    "sepsis_data.race.unique()"
   ]
  },
  {
   "cell_type": "code",
   "execution_count": 9,
   "metadata": {},
   "outputs": [],
   "source": [
    "def white(input_str):\n",
    "    string = 'white'\n",
    "    input_str = str(input_str)\n",
    "    if input_str != \"\" and string.lower() == input_str.lower():\n",
    "        return 1\n",
    "    else:\n",
    "        return 0\n",
    "        \n",
    "def black(input_str):\n",
    "    string = 'Black/African-American'\n",
    "    input_str = str(input_str)\n",
    "    if input_str != \"\" and string.lower() == input_str.lower():\n",
    "        return 1\n",
    "    else:\n",
    "        return 0\n",
    "        \n",
    "def unknown(input_str):\n",
    "    string = 'unknown'\n",
    "    input_str = str(input_str)\n",
    "    if input_str != \"\" and string.lower() == input_str.lower():\n",
    "        return 1\n",
    "    else:\n",
    "        return 0\n",
    "        \n",
    "def asian(input_str):\n",
    "    string = 'Asian/Mideast Indian'\n",
    "    input_str = str(input_str)\n",
    "    if input_str != \"\" and string.lower() == input_str.lower():\n",
    "        return 1\n",
    "    else:\n",
    "        return 0\n",
    "    \n",
    "def pac_island(input_str):\n",
    "    string = 'Native Hawaiian/Other Pacific Islander'\n",
    "    input_str = str(input_str)\n",
    "    if input_str != \"\" and string.lower() == input_str.lower():\n",
    "        return 1\n",
    "    else:\n",
    "        return 0\n",
    "        \n",
    "def more_than_one(input_str):\n",
    "    string = 'More than one Race'\n",
    "    input_str = str(input_str)\n",
    "    if input_str != \"\" and string.lower() == input_str.lower():\n",
    "        return 1\n",
    "    else:\n",
    "        return 0"
   ]
  },
  {
   "cell_type": "code",
   "execution_count": 10,
   "metadata": {},
   "outputs": [],
   "source": [
    "sepsis_data[\"Race_White\"] = 0\n",
    "sepsis_data.loc[:, 'Race_White'] = sepsis_data.race.apply(white)\n",
    "\n",
    "sepsis_data[\"Race_Black/African-American\"] = 0\n",
    "sepsis_data.loc[:, 'Race_Black/African-American'] = sepsis_data.race.apply(black)\n",
    "\n",
    "sepsis_data[\"Race_Unknown\"] = 0\n",
    "sepsis_data.loc[:, 'Race_Unknown'] = sepsis_data.race.apply(unknown)\n",
    "\n",
    "sepsis_data[\"Race_Asian/Mideast Indian\"] = 0\n",
    "sepsis_data.loc[:, 'Race_Asian/Mideast Indian'] = sepsis_data.race.apply(asian)\n",
    "\n",
    "sepsis_data[\"Race_Native Hawaiian/Other Pacific Islander\"] = 0\n",
    "sepsis_data.loc[:, 'Race_Native Hawaiian/Other Pacific Islander'] = sepsis_data.race.apply(pac_island)\n",
    "\n",
    "sepsis_data[\"Race_More than one Race\"] = 0\n",
    "sepsis_data.loc[:, 'Race_More than one Race'] = sepsis_data.race.apply(more_than_one)\n"
   ]
  },
  {
   "cell_type": "code",
   "execution_count": 11,
   "metadata": {},
   "outputs": [],
   "source": [
    "#sepsis_data[\"race\"][(sepsis_data[\"race\"].notnull())].head(50)"
   ]
  },
  {
   "cell_type": "code",
   "execution_count": 12,
   "metadata": {},
   "outputs": [],
   "source": [
    "#sepsis_data[\"Race - White\"][(sepsis_data[\"Race - White\"].notnull())].head(50)"
   ]
  },
  {
   "cell_type": "markdown",
   "metadata": {},
   "source": [
    "### Discharge Dispo"
   ]
  },
  {
   "cell_type": "code",
   "execution_count": 13,
   "metadata": {},
   "outputs": [
    {
     "data": {
      "text/plain": [
       "array(['Home LW', 'Home Health Care, Home LW', nan,\n",
       "       'Discharged to another Hospital, Discharged/Transferred to Med cert LTC Hospital',\n",
       "       'Expired', 'Discharged/Transferred to Inpt Rehab Facility, Home LW',\n",
       "       'Discharged/Transferred to Inpt Rehab Facility',\n",
       "       'Discharged to a SNF, Home LW',\n",
       "       'Discharged/Transferred to Inpt Rehab Facility, Discharged/Transferred to Med cert LTC Hospital',\n",
       "       'Discharged to a SNF, Discharged/Transferred to Inpt Rehab Facility',\n",
       "       \"Disc/Tran to Designated Cancer/Children's Hospital, Discharged to a SNF\",\n",
       "       'Home LW, Intermediate Care Facility', 'Against Medical Advice',\n",
       "       'Discharged to another Hospital, Home LW', 'Discharged to a SNF',\n",
       "       'Against Medical Advice, Home LW',\n",
       "       \"Disc/Tran to Designated Cancer/Children's Hospital, Discharged/Transferred to Inpt Rehab Facility\",\n",
       "       'Home LW, Hospice-Home',\n",
       "       'Discharged to a SNF, Discharged to another Hospital',\n",
       "       'Discharged to another Hospital', 'Hospice-Medical Facility',\n",
       "       'Hospice-Home',\n",
       "       'Discharged/Transferred to Med cert LTC Hospital, Home LW',\n",
       "       'Expired, Home LW',\n",
       "       'Hospice-Medical Facility, Intermediate Care Facility',\n",
       "       'Discharged to another Hospital, Hospice-Medical Facility',\n",
       "       'Discharged to a SNF, Home Health Care',\n",
       "       'Discharged to a SNF, Discharged to another Hospital, Home LW',\n",
       "       'Discharged to a SNF, Hospice-Medical Facility',\n",
       "       'Discharged to another Hospital, Discharged/Transferred to Inpt Rehab Facility',\n",
       "       \"Disc/Tran to Designated Cancer/Children's Hospital, Home LW\",\n",
       "       'Dis/Trf to Psych Hosp or Psy Unit of Hosp, Home LW'], dtype=object)"
      ]
     },
     "execution_count": 13,
     "metadata": {},
     "output_type": "execute_result"
    }
   ],
   "source": [
    "#Discharge dispo\n",
    "\n",
    "sepsis_data.discharge_dispo.unique()"
   ]
  },
  {
   "cell_type": "code",
   "execution_count": 14,
   "metadata": {},
   "outputs": [],
   "source": [
    "def snf(input_str):\n",
    "    string = 'discharged to a snf'\n",
    "    input_str = str(input_str)\n",
    "    if input_str != \"\" and string.lower() == input_str.lower():\n",
    "        return 1\n",
    "    else:\n",
    "        return 0\n",
    "    \n",
    "def home_lw(input_str):\n",
    "    string = 'home lw'\n",
    "    input_str = str(input_str)\n",
    "    if input_str != \"\" and string.lower() == input_str.lower():\n",
    "        return 1\n",
    "    else:\n",
    "        return 0\n",
    "\n",
    "def home_healthcare(input_str):\n",
    "    string = 'home health care'\n",
    "    input_str = str(input_str)\n",
    "    if input_str != \"\" and string.lower() == input_str.lower():\n",
    "        return 1\n",
    "    else:\n",
    "        return 0\n",
    "    \n",
    "def another_hospital(input_str):\n",
    "    string = 'Discharged to another Hospital'\n",
    "    input_str = str(input_str)\n",
    "    if input_str != \"\" and string.lower() == input_str.lower():\n",
    "        return 1\n",
    "    else:\n",
    "        return 0\n",
    "\n",
    "def med_cert_ltc_hospital(input_str):\n",
    "    string = 'Discharged/Transferred to Med cert LTC Hospital'\n",
    "    input_str = str(input_str)\n",
    "    if input_str != \"\" and string.lower() == input_str.lower():\n",
    "        return 1\n",
    "    else:\n",
    "        return 0\n",
    "    \n",
    "def expired(input_str):\n",
    "    string = 'Expired'\n",
    "    input_str = str(input_str)\n",
    "    if input_str != \"\" and string.lower() == input_str.lower():\n",
    "        return 1\n",
    "    else:\n",
    "        return 0\n",
    "    \n",
    "def inpt_rehab_facility(input_str):\n",
    "    string = 'Discharged/Transferred to Inpt Rehab Facility'\n",
    "    input_str = str(input_str)\n",
    "    if input_str != \"\" and string.lower() == input_str.lower():\n",
    "        return 1\n",
    "    else:\n",
    "        return 0\n",
    "\n",
    "def childrens_hospital(input_str):\n",
    "    string = \"Disc/Tran to Designated Cancer/Children's Hospital\"\n",
    "    input_str = str(input_str)\n",
    "    if input_str != \"\" and string.lower() == input_str.lower():\n",
    "        return 1\n",
    "    else:\n",
    "        return 0\n",
    "    \n",
    "def intermediate_care_facility(input_str):\n",
    "    string = \"Intermediate Care Facility\"\n",
    "    input_str = str(input_str)\n",
    "    if input_str != \"\" and string.lower() == input_str.lower():\n",
    "        return 1\n",
    "    else:\n",
    "        return 0\n",
    "    \n",
    "def against_advice(input_str):\n",
    "    string = \"Against Medical Advice\"\n",
    "    input_str = str(input_str)\n",
    "    if input_str != \"\" and string.lower() == input_str.lower():\n",
    "        return 1\n",
    "    else:\n",
    "        return 0\n",
    "    \n",
    "def another_hospital(input_str):\n",
    "    string = \"Discharged to another Hospital\"\n",
    "    input_str = str(input_str)\n",
    "    if input_str != \"\" and string.lower() == input_str.lower():\n",
    "        return 1\n",
    "    else:\n",
    "        return 0\n",
    "    \n",
    "def hospice_home(input_str):\n",
    "    string = \"Hospice-Home\"\n",
    "    input_str = str(input_str)\n",
    "    if input_str != \"\" and string.lower() == input_str.lower():\n",
    "        return 1\n",
    "    else:\n",
    "        return 0\n",
    "    \n",
    "def hospice_medical_facility(input_str):\n",
    "    string = 'Hospice-Medical Facility'\n",
    "    input_str = str(input_str)\n",
    "    if input_str != \"\" and string.lower() == input_str.lower():\n",
    "        return 1\n",
    "    else:\n",
    "        return 0\n",
    "    \n",
    "def psych_hospital(input_str):\n",
    "    string = \"Dis/Trf to Psych Hosp or Psy Unit of Hosp\"\n",
    "    input_str = str(input_str)\n",
    "    if input_str != \"\" and string.lower() == input_str.lower():\n",
    "        return 1\n",
    "    else:\n",
    "        return 0\n",
    "        "
   ]
  },
  {
   "cell_type": "code",
   "execution_count": 15,
   "metadata": {},
   "outputs": [],
   "source": [
    "sepsis_data[\"Discharge - SNF\"] = 0\n",
    "sepsis_data.loc[:, 'Discharge - SNF'] = sepsis_data.discharge_dispo.apply(snf)\n",
    "\n",
    "sepsis_data[\"Discharge - Home LW\"] = 0\n",
    "sepsis_data.loc[:, 'Discharge - Home LW'] = sepsis_data.discharge_dispo.apply(home_lw)\n",
    "\n",
    "sepsis_data[\"Discharge - Home Health Care\"] = 0\n",
    "sepsis_data.loc[:, 'Discharge - Home Health Care'] = sepsis_data.discharge_dispo.apply(home_healthcare)\n",
    "\n",
    "sepsis_data[\"Discharge - Another Hospital\"] = 0\n",
    "sepsis_data.loc[:, 'Discharge - Another Hospital'] = sepsis_data.discharge_dispo.apply(another_hospital)\n",
    "\n",
    "sepsis_data[\"Discharged/Transferred to Med cert LTC Hospital\"] = 0\n",
    "sepsis_data.loc[:, 'Discharged/Transferred to Med cert LTC Hospital'] = sepsis_data.discharge_dispo.apply(med_cert_ltc_hospital)\n",
    "\n",
    "sepsis_data[\"Discharge - Expired\"] = 0\n",
    "sepsis_data.loc[:, 'Discharge - Expired'] = sepsis_data.discharge_dispo.apply(expired)\n",
    "\n",
    "sepsis_data[\"Discharged/Transferred to Inpt Rehab Facility\"] = 0\n",
    "sepsis_data.loc[:, 'Discharged/Transferred to Inpt Rehab Facility'] = sepsis_data.discharge_dispo.apply(inpt_rehab_facility)\n",
    "\n",
    "sepsis_data[\"Discarched/Tranferred to Designated Cancer/Children's Hospital\"] = 0\n",
    "sepsis_data.loc[:, \"Discarched/Tranferred to Designated Cancer/Children's Hospital\"] = sepsis_data.discharge_dispo.apply(childrens_hospital)\n",
    "\n",
    "sepsis_data[\"Discharge - Intermediate Care Facility\"] = 0\n",
    "sepsis_data.loc[:, 'Discharge - Intermediate Care Facility'] = sepsis_data.discharge_dispo.apply(intermediate_care_facility)\n",
    "\n",
    "sepsis_data[\"Discharge - Against Medical Advice\"] = 0\n",
    "sepsis_data.loc[:, 'Discharge - Against Medical Advice'] = sepsis_data.discharge_dispo.apply(against_advice)\n",
    "\n",
    "sepsis_data[\"Discharge - Hospice-Home\"] = 0\n",
    "sepsis_data.loc[:, 'Discharge - Hospice-Home'] = sepsis_data.discharge_dispo.apply(hospice_home)\n",
    "\n",
    "sepsis_data[\"Discharge - Hospice-Medical Facility\"] = 0\n",
    "sepsis_data.loc[:, 'Discharge - Hospice-Medical Facility'] = sepsis_data.discharge_dispo.apply(hospice_medical_facility)\n",
    "\n",
    "sepsis_data[\"Dis/Trf to Psych Hosp or Psy Unit of Hosp\"] = 0\n",
    "sepsis_data.loc[:, 'Dis/Trf to Psych Hosp or Psy Unit of Hosp'] = sepsis_data.discharge_dispo.apply(psych_hospital)"
   ]
  },
  {
   "cell_type": "code",
   "execution_count": 16,
   "metadata": {},
   "outputs": [],
   "source": [
    "#sepsis_data[\"discharge_dispo\"][(sepsis_data[\"discharge_dispo\"].notnull())].head(50)"
   ]
  },
  {
   "cell_type": "code",
   "execution_count": 17,
   "metadata": {},
   "outputs": [],
   "source": [
    "#sepsis_data[\"Discharge - Home LW\"][(sepsis_data[\"Discharge - Home LW\"].notnull())].head(50)"
   ]
  },
  {
   "cell_type": "markdown",
   "metadata": {},
   "source": [
    "### Route"
   ]
  },
  {
   "cell_type": "code",
   "execution_count": 18,
   "metadata": {},
   "outputs": [
    {
     "data": {
      "text/plain": [
       "array([nan, 'iv', 'oral'], dtype=object)"
      ]
     },
     "execution_count": 18,
     "metadata": {},
     "output_type": "execute_result"
    }
   ],
   "source": [
    "#Route\n",
    "\n",
    "sepsis_data.route.unique()"
   ]
  },
  {
   "cell_type": "code",
   "execution_count": 19,
   "metadata": {},
   "outputs": [],
   "source": [
    "def route(input_str):\n",
    "    string = 'iv'\n",
    "    input_str = str(input_str)\n",
    "    if input_str != \"\" and string.lower() == input_str.lower():\n",
    "        return 1\n",
    "    else:\n",
    "        return 0"
   ]
  },
  {
   "cell_type": "code",
   "execution_count": 20,
   "metadata": {},
   "outputs": [],
   "source": [
    "sepsis_data[\"Category_Route\"] = 0\n",
    "sepsis_data.loc[:, 'Category_Route'] = sepsis_data.route.apply(route)"
   ]
  },
  {
   "cell_type": "code",
   "execution_count": 21,
   "metadata": {},
   "outputs": [],
   "source": [
    "#sepsis_data[\"route\"][(sepsis_data[\"route\"].notnull())].head(50)"
   ]
  },
  {
   "cell_type": "code",
   "execution_count": 22,
   "metadata": {},
   "outputs": [],
   "source": [
    "#sepsis_data[\"Category - Route\"][(sepsis_data[\"Category - Route\"].notnull())].head(500)"
   ]
  },
  {
   "cell_type": "markdown",
   "metadata": {},
   "source": [
    "### Ethnicity"
   ]
  },
  {
   "cell_type": "code",
   "execution_count": 23,
   "metadata": {},
   "outputs": [
    {
     "data": {
      "text/plain": [
       "array(['Not Hispanic or Latino', nan, 'Hispanic or Latino', 'Unknown'], dtype=object)"
      ]
     },
     "execution_count": 23,
     "metadata": {},
     "output_type": "execute_result"
    }
   ],
   "source": [
    "#Ethnicity\n",
    "\n",
    "sepsis_data.ethnicity.unique()"
   ]
  },
  {
   "cell_type": "code",
   "execution_count": 24,
   "metadata": {},
   "outputs": [],
   "source": [
    "def ethnicity(input_str):\n",
    "    string = 'Not Hispanic or Latino'\n",
    "    input_str = str(input_str)\n",
    "    if string.lower() == input_str.lower():\n",
    "        return 1\n",
    "    else:\n",
    "        return 0"
   ]
  },
  {
   "cell_type": "code",
   "execution_count": 25,
   "metadata": {},
   "outputs": [],
   "source": [
    "sepsis_data[\"Category_Ethnicity\"] = 0\n",
    "sepsis_data.loc[:, 'Category_Ethnicity'] = sepsis_data.ethnicity.apply(ethnicity)"
   ]
  },
  {
   "cell_type": "code",
   "execution_count": 26,
   "metadata": {},
   "outputs": [],
   "source": [
    "#sepsis_data[\"ethnicity\"][(sepsis_data[\"ethnicity\"].notnull())].head(500)"
   ]
  },
  {
   "cell_type": "code",
   "execution_count": 27,
   "metadata": {},
   "outputs": [],
   "source": [
    "#sepsis_data[\"Category - Ethnicity\"][(sepsis_data[\"Category - Ethnicity\"].notnull())].head(50)"
   ]
  },
  {
   "cell_type": "markdown",
   "metadata": {},
   "source": [
    "### Loc Cat"
   ]
  },
  {
   "cell_type": "code",
   "execution_count": 28,
   "metadata": {},
   "outputs": [
    {
     "data": {
      "text/plain": [
       "array(['WARD', nan, 'ER', 'ICU', 'INVT/DIAG/OTHER', 'OR'], dtype=object)"
      ]
     },
     "execution_count": 28,
     "metadata": {},
     "output_type": "execute_result"
    }
   ],
   "source": [
    "#loc_cat\n",
    "\n",
    "sepsis_data.loc_cat.unique()"
   ]
  },
  {
   "cell_type": "code",
   "execution_count": 29,
   "metadata": {},
   "outputs": [],
   "source": [
    "def ward(input_str):\n",
    "    string = 'WARD'\n",
    "    input_str = str(input_str)\n",
    "    if string.lower() == input_str.lower():\n",
    "        return 1\n",
    "    else:\n",
    "        return 0\n",
    "    \n",
    "def emer_room(input_str):\n",
    "    string = 'ER'\n",
    "    input_str = str(input_str)\n",
    "    if string.lower() == input_str.lower():\n",
    "        return 1\n",
    "    else:\n",
    "        return 0\n",
    "    \n",
    "def icu(input_str):\n",
    "    string = 'ICU'\n",
    "    input_str = str(input_str)\n",
    "    if string.lower() == input_str.lower():\n",
    "        return 1\n",
    "    else:\n",
    "        return 0\n",
    "    \n",
    "def invt(input_str):\n",
    "    string = 'INVT/DIAG/OTHER'\n",
    "    input_str = str(input_str)\n",
    "    if string.lower() == input_str.lower():\n",
    "        return 1\n",
    "    else:\n",
    "        return 0\n",
    "    \n",
    "def oper_room(input_str):\n",
    "    string = 'OR'\n",
    "    input_str = str(input_str)\n",
    "    if string.lower() == input_str.lower():\n",
    "        return 1\n",
    "    else:\n",
    "        return 0"
   ]
  },
  {
   "cell_type": "code",
   "execution_count": 30,
   "metadata": {},
   "outputs": [],
   "source": [
    "sepsis_data[\"Location_Ward\"] = 0\n",
    "sepsis_data.loc[:, 'Location_Ward'] = sepsis_data.loc_cat.apply(ward)\n",
    "\n",
    "sepsis_data[\"Location_ER\"] = 0\n",
    "sepsis_data.loc[:, 'Location_ER'] = sepsis_data.loc_cat.apply(emer_room)\n",
    "\n",
    "sepsis_data[\"Location_ICU\"] = 0\n",
    "sepsis_data.loc[:, 'Location_ICU'] = sepsis_data.loc_cat.apply(icu)\n",
    "\n",
    "sepsis_data[\"Location_INVT\"] = 0\n",
    "sepsis_data.loc[:, 'Location_INVT'] = sepsis_data.loc_cat.apply(invt)\n",
    "\n",
    "sepsis_data[\"Location_OR\"] = 0\n",
    "sepsis_data.loc[:, 'Location_OR'] = sepsis_data.loc_cat.apply(oper_room)"
   ]
  },
  {
   "cell_type": "code",
   "execution_count": 31,
   "metadata": {},
   "outputs": [],
   "source": [
    "#sepsis_data[\"loc_cat\"][(sepsis_data[\"loc_cat\"].notnull())].head(500)"
   ]
  },
  {
   "cell_type": "code",
   "execution_count": 32,
   "metadata": {},
   "outputs": [],
   "source": [
    "#sepsis_data[\"Location - ER\"][(sepsis_data[\"Location - ER\"].notnull())].head(500)"
   ]
  },
  {
   "cell_type": "markdown",
   "metadata": {},
   "source": [
    "### Cart Loc"
   ]
  },
  {
   "cell_type": "code",
   "execution_count": 33,
   "metadata": {},
   "outputs": [
    {
     "data": {
      "text/plain": [
       "array([nan, 'TS605', 'D506', 'D510'], dtype=object)"
      ]
     },
     "execution_count": 33,
     "metadata": {},
     "output_type": "execute_result"
    }
   ],
   "source": [
    "#Cart_loc\n",
    "\n",
    "sepsis_data.cart_loc.unique()"
   ]
  },
  {
   "cell_type": "code",
   "execution_count": 34,
   "metadata": {},
   "outputs": [],
   "source": [
    "def ts605(input_str):\n",
    "    string = 'TS605'\n",
    "    input_str = str(input_str)\n",
    "    if string.lower() == input_str.lower():\n",
    "        return 1\n",
    "    else:\n",
    "        return 0\n",
    "    \n",
    "def d506(input_str):\n",
    "    string = 'D506'\n",
    "    input_str = str(input_str)\n",
    "    if string.lower() == input_str.lower():\n",
    "        return 1\n",
    "    else:\n",
    "        return 0\n",
    "    \n",
    "def d510(input_str):\n",
    "    string = 'D510'\n",
    "    input_str = str(input_str)\n",
    "    if string.lower() == input_str.lower():\n",
    "        return 1\n",
    "    else:\n",
    "        return 0"
   ]
  },
  {
   "cell_type": "code",
   "execution_count": 35,
   "metadata": {},
   "outputs": [],
   "source": [
    "sepsis_data[\"TS605\"] = 0\n",
    "sepsis_data.loc[:, 'TS605'] = sepsis_data.cart_loc.apply(ts605)\n",
    "\n",
    "sepsis_data[\"D506\"] = 0\n",
    "sepsis_data.loc[:, 'D506'] = sepsis_data.cart_loc.apply(d506)\n",
    "\n",
    "sepsis_data[\"D510\"] = 0\n",
    "sepsis_data.loc[:, 'D510'] = sepsis_data.cart_loc.apply(d510)"
   ]
  },
  {
   "cell_type": "code",
   "execution_count": 36,
   "metadata": {},
   "outputs": [],
   "source": [
    "#sepsis_data[\"cart_loc\"][(sepsis_data[\"cart_loc\"].notnull())].head(500)"
   ]
  },
  {
   "cell_type": "code",
   "execution_count": 37,
   "metadata": {},
   "outputs": [],
   "source": [
    "#sepsis_data[\"TS605\"][(sepsis_data[\"TS605\"].notnull())].head(50)"
   ]
  },
  {
   "cell_type": "markdown",
   "metadata": {},
   "source": [
    "### Initial Rhythm"
   ]
  },
  {
   "cell_type": "code",
   "execution_count": 38,
   "metadata": {},
   "outputs": [
    {
     "data": {
      "text/plain": [
       "array([nan, 'VF/VT', 'PEA', 'other/unk'], dtype=object)"
      ]
     },
     "execution_count": 38,
     "metadata": {},
     "output_type": "execute_result"
    }
   ],
   "source": [
    "#Initial Rhythm\n",
    "\n",
    "sepsis_data.initialrhythm.unique()"
   ]
  },
  {
   "cell_type": "code",
   "execution_count": 39,
   "metadata": {},
   "outputs": [],
   "source": [
    "def vfvt(input_str):\n",
    "    string = 'VF/VT'\n",
    "    input_str = str(input_str)\n",
    "    if string.lower() == input_str.lower():\n",
    "        return 1\n",
    "    else:\n",
    "        return 0\n",
    "    \n",
    "def pea(input_str):\n",
    "    string = 'PEA'\n",
    "    input_str = str(input_str)\n",
    "    if string.lower() == input_str.lower():\n",
    "        return 1\n",
    "    else:\n",
    "        return 0\n",
    "    \n",
    "def other_unk(input_str):\n",
    "    string = 'other/unk'\n",
    "    input_str = str(input_str)\n",
    "    if string.lower() == input_str.lower():\n",
    "        return 1\n",
    "    else:\n",
    "        return 0"
   ]
  },
  {
   "cell_type": "code",
   "execution_count": 40,
   "metadata": {},
   "outputs": [],
   "source": [
    "sepsis_data[\"Initial Rhythm - VF/VT\"] = 0\n",
    "sepsis_data.loc[:, 'Initial Rhythm - VF/VT'] = sepsis_data.initialrhythm.apply(vfvt)\n",
    "\n",
    "sepsis_data[\"Initial Rhythm - PEA\"] = 0\n",
    "sepsis_data.loc[:, 'Initial Rhythm - PEA'] = sepsis_data.initialrhythm.apply(pea)\n",
    "\n",
    "sepsis_data[\"Initial Rhythm - Other\"] = 0\n",
    "sepsis_data.loc[:, 'Initial Rhythm - Other'] = sepsis_data.initialrhythm.apply(other_unk)"
   ]
  },
  {
   "cell_type": "code",
   "execution_count": 41,
   "metadata": {},
   "outputs": [],
   "source": [
    "#sepsis_data[\"initialrhythm\"][(sepsis_data[\"initialrhythm\"].notnull())].head(500)"
   ]
  },
  {
   "cell_type": "code",
   "execution_count": 42,
   "metadata": {},
   "outputs": [],
   "source": [
    "#sepsis_data[\"Initial Rhythm - VF/VT\"][(sepsis_data[\"Initial Rhythm - VF/VT\"].notnull())].head(50)"
   ]
  },
  {
   "cell_type": "markdown",
   "metadata": {},
   "source": [
    "### enc_eio"
   ]
  },
  {
   "cell_type": "code",
   "execution_count": 43,
   "metadata": {},
   "outputs": [
    {
     "data": {
      "text/plain": [
       "array(['I', nan, 'I, O', 'E, I', 'E'], dtype=object)"
      ]
     },
     "execution_count": 43,
     "metadata": {},
     "output_type": "execute_result"
    }
   ],
   "source": [
    "#enc_eio\n",
    "\n",
    "sepsis_data.enc_eio.unique()"
   ]
  },
  {
   "cell_type": "code",
   "execution_count": 44,
   "metadata": {},
   "outputs": [],
   "source": [
    "def enc_i(input_str):\n",
    "    string = 'I'\n",
    "    input_str = str(input_str)\n",
    "    if string.lower() in input_str.lower():\n",
    "        return 1\n",
    "    else:\n",
    "        return 0\n",
    "    \n",
    "def enc_o(input_str):\n",
    "    string = 'O'\n",
    "    input_str = str(input_str)\n",
    "    if string.lower() in input_str.lower():\n",
    "        return 1\n",
    "    else:\n",
    "        return 0\n",
    "    \n",
    "def enc_e(input_str):\n",
    "    string = 'E'\n",
    "    input_str = str(input_str)\n",
    "    if string.lower() in input_str.lower():\n",
    "        return 1\n",
    "    else:\n",
    "        return 0"
   ]
  },
  {
   "cell_type": "code",
   "execution_count": 45,
   "metadata": {},
   "outputs": [],
   "source": [
    "sepsis_data[\"ENC_I\"] = 0\n",
    "sepsis_data.loc[:, 'ENC_I'] = sepsis_data.enc_eio.apply(enc_i)\n",
    "\n",
    "sepsis_data[\"ENC_O\"] = 0\n",
    "sepsis_data.loc[:, 'ENC_O'] = sepsis_data.enc_eio.apply(enc_o)\n",
    "\n",
    "sepsis_data[\"ENC_E\"] = 0\n",
    "sepsis_data.loc[:, 'ENC_E'] = sepsis_data.enc_eio.apply(enc_e)"
   ]
  },
  {
   "cell_type": "code",
   "execution_count": 46,
   "metadata": {},
   "outputs": [],
   "source": [
    "#sepsis_data[\"enc_eio\"][(sepsis_data[\"enc_eio\"].notnull())].head(500)"
   ]
  },
  {
   "cell_type": "code",
   "execution_count": 47,
   "metadata": {},
   "outputs": [],
   "source": [
    "#sepsis_data[\"ENC - I\"][(sepsis_data[\"ENC - I\"].notnull())].head(50)"
   ]
  },
  {
   "cell_type": "code",
   "execution_count": null,
   "metadata": {},
   "outputs": [],
   "source": []
  },
  {
   "cell_type": "markdown",
   "metadata": {},
   "source": [
    "### Cardiac Rhythm"
   ]
  },
  {
   "cell_type": "code",
   "execution_count": 48,
   "metadata": {},
   "outputs": [],
   "source": [
    "#I'm not smart enough to know how to use a general purpose function with multiple parameters with the apply method below\n",
    "#def check_category(input_str, check_for):\n",
    "#    input_str = str(input_str)\n",
    "#    if check_for in input_str.lower():\n",
    "#        return 1\n",
    "#    return 0\n",
    "\n",
    "\n",
    "def check_tachy(input_str):\n",
    "    input_str = str(input_str)\n",
    "    if \"tachycardia\" in input_str.lower():\n",
    "        return 1\n",
    "    return 0\n",
    "\n",
    "def check_brady(input_str):\n",
    "    input_str = str(input_str)\n",
    "    if \"bradycardia\" in input_str.lower():\n",
    "        return 1\n",
    "    return 0\n",
    "\n",
    "def check_degree(input_str):\n",
    "    input_str = str(input_str)\n",
    "    if \"1st degree\" in input_str.lower():\n",
    "        return 1\n",
    "    elif \"2nd degree\" in input_str.lower():\n",
    "        return 2\n",
    "    elif \"3rd degree\" in input_str.lower():\n",
    "        return 3\n",
    "    return 0\n",
    "\n",
    "def check_arrhythmia(input_str):\n",
    "    input_str = str(input_str)\n",
    "    if \"arrhythmia\" in input_str.lower():\n",
    "        return 1\n",
    "    return 0\n",
    "\n",
    "def check_fibrillation(input_str):\n",
    "    input_str = str(input_str)\n",
    "    if \"fibrillation\" in input_str.lower():\n",
    "        return 1\n",
    "    return 0\n",
    "\n",
    "def check_asystole(input_str):\n",
    "    input_str = str(input_str)\n",
    "    if \"asystole\" in input_str.lower():\n",
    "        return 1\n",
    "    return 0\n",
    "\n",
    "def check_flutter(input_str):\n",
    "    input_str = str(input_str)\n",
    "    if \"flutter\" in input_str.lower():\n",
    "        return 1\n",
    "    return 0\n",
    "\n",
    "def check_junctional(input_str):\n",
    "    input_str = str(input_str)\n",
    "    if \"junctional\" in input_str.lower():\n",
    "        return 1\n",
    "    return 0\n",
    "\n",
    "def check_normal(input_str):\n",
    "    input_str = str(input_str)\n",
    "    if \"normal\" in input_str.lower():\n",
    "        return 1\n",
    "    return 0\n",
    "\n",
    "def check_paced(input_str):\n",
    "    input_str = str(input_str)\n",
    "    if \"paced\" in input_str.lower():\n",
    "        return 1\n",
    "    return 0\n",
    "\n",
    "def check_pvc(input_str):\n",
    "    input_str = str(input_str)\n",
    "    if \"pvc\" in input_str.lower():\n",
    "        return 1\n",
    "    return 0\n"
   ]
  },
  {
   "cell_type": "code",
   "execution_count": 49,
   "metadata": {},
   "outputs": [
    {
     "name": "stdout",
     "output_type": "stream",
     "text": [
      "1\n"
     ]
    }
   ],
   "source": [
    "print(check_tachy(\"does this have tachycardia?\"))"
   ]
  },
  {
   "cell_type": "code",
   "execution_count": 50,
   "metadata": {},
   "outputs": [],
   "source": [
    "#sepsis_data[\"cardiac_rhythm\"][(sepsis_data[\"cardiac_rhythm\"].notnull())].head(500)"
   ]
  },
  {
   "cell_type": "code",
   "execution_count": 51,
   "metadata": {},
   "outputs": [],
   "source": [
    "#sepsis_data[\"cardiac_rhythm\"][(sepsis_data[\"cardiac_rhythm\"].notnull())].str.contains(\"Tachycardia\").head(50)"
   ]
  },
  {
   "cell_type": "code",
   "execution_count": 52,
   "metadata": {},
   "outputs": [],
   "source": [
    "sepsis_data[\"CR_tachycardia\"] = 0\n",
    "sepsis_data.loc[:, 'CR_tachycardia'] = sepsis_data.cardiac_rhythm.apply(check_tachy)\n",
    "\n",
    "sepsis_data[\"CR_bradycardia\"] = 0\n",
    "sepsis_data.loc[:, 'CR_bradycardia'] = sepsis_data.cardiac_rhythm.apply(check_brady)\n",
    "\n",
    "sepsis_data[\"CR_degree\"] = 0\n",
    "sepsis_data.loc[:, 'CR_degree'] = sepsis_data.cardiac_rhythm.apply(check_degree)\n",
    "\n",
    "sepsis_data[\"CR_arrhythmia\"] = 0\n",
    "sepsis_data.loc[:, 'CR_arrhythmia'] = sepsis_data.cardiac_rhythm.apply(check_arrhythmia)\n",
    "\n",
    "sepsis_data[\"CR_fibrillation\"] = 0\n",
    "sepsis_data.loc[:, 'CR_fibrillation'] = sepsis_data.cardiac_rhythm.apply(check_fibrillation)\n",
    "\n",
    "sepsis_data[\"CR_asystole\"] = 0\n",
    "sepsis_data.loc[:, 'CR_asystole'] = sepsis_data.cardiac_rhythm.apply(check_asystole)\n",
    "\n",
    "sepsis_data[\"CR_flutter\"] = 0\n",
    "sepsis_data.loc[:, 'CR_flutter'] = sepsis_data.cardiac_rhythm.apply(check_flutter)\n",
    "\n",
    "sepsis_data[\"CR_junctional\"] = 0\n",
    "sepsis_data.loc[:, 'CR_junctional'] = sepsis_data.cardiac_rhythm.apply(check_junctional)\n",
    "\n",
    "sepsis_data[\"CR_normal\"] = 0\n",
    "sepsis_data.loc[:, 'CR_normal'] = sepsis_data.cardiac_rhythm.apply(check_normal)\n",
    "\n",
    "sepsis_data[\"CR_paced\"] = 0\n",
    "sepsis_data.loc[:, 'CR_paced'] = sepsis_data.cardiac_rhythm.apply(check_paced)\n",
    "\n",
    "sepsis_data[\"CR_pvc\"] = 0\n",
    "sepsis_data.loc[:, 'CR_pvc'] = sepsis_data.cardiac_rhythm.apply(check_pvc)\n"
   ]
  },
  {
   "cell_type": "markdown",
   "metadata": {},
   "source": [
    "### Abdominal Assess"
   ]
  },
  {
   "cell_type": "code",
   "execution_count": 53,
   "metadata": {},
   "outputs": [],
   "source": [
    "def check_soft(input_str):\n",
    "    input_str = str(input_str)\n",
    "    if \"soft\" in input_str.lower():\n",
    "        return 1\n",
    "    return 0\n",
    "\n",
    "def check_distended(input_str):\n",
    "    input_str = str(input_str)\n",
    "    if \"distended\" in input_str.lower():\n",
    "        return 1\n",
    "    return 0\n",
    "\n",
    "def check_obese(input_str):\n",
    "    input_str = str(input_str)\n",
    "    if \"obese\" in input_str.lower():\n",
    "        return 1\n",
    "    return 0\n",
    "\n",
    "def check_tender(input_str):\n",
    "    input_str = str(input_str)\n",
    "    if \"non-tender\" not in input_str.lower():\n",
    "        if \"tender\" in input_str.lower():\n",
    "            return 1\n",
    "    return 0\n",
    "\n",
    "def check_ascites(input_str):\n",
    "    input_str = str(input_str)\n",
    "    if \"ascites\" in input_str.lower():\n",
    "        return 1\n",
    "    return 0\n",
    "\n",
    "def check_discolored(input_str):\n",
    "    input_str = str(input_str)\n",
    "    if \"discolored\" in input_str.lower():\n",
    "        return 1\n",
    "    return 0\n",
    "\n",
    "def check_firm(input_str):\n",
    "    input_str = str(input_str)\n",
    "    if \"firm\" in input_str.lower():\n",
    "        return 1\n",
    "    return 0\n",
    "\n",
    "def check_flatus(input_str):\n",
    "    input_str = str(input_str)\n",
    "    if \"flatus\" in input_str.lower():\n",
    "        return 1\n",
    "    return 0\n",
    "\n",
    "def check_round(input_str):\n",
    "    input_str = str(input_str)\n",
    "    if \"round\" in input_str.lower():\n",
    "        return 1\n",
    "    return 0\n",
    "\n",
    "def check_flat(input_str):\n",
    "    input_str = str(input_str)\n",
    "    if \"flatus\" not in input_str.lower():\n",
    "        if \"flat\" in input_str.lower():\n",
    "            return 1\n",
    "    return 0\n",
    "\n",
    "def check_scaphoid(input_str):\n",
    "    input_str = str(input_str)\n",
    "    if \"scaphoid\" in input_str.lower():\n",
    "        return 1\n",
    "    return 0\n",
    "\n",
    "def check_full(input_str):\n",
    "    input_str = str(input_str)\n",
    "    if \"full\" in input_str.lower():\n",
    "        return 1\n",
    "    return 0\n",
    "\n",
    "def check_nontender(input_str):\n",
    "    input_str = str(input_str)\n",
    "    if \"non-tender\" in input_str.lower():\n",
    "        return 1\n",
    "    return 0\n",
    "\n",
    "def check_gravid(input_str):\n",
    "    input_str = str(input_str)\n",
    "    if \"gravid\" in input_str.lower():\n",
    "        return 1\n",
    "    return 0\n",
    "\n",
    "def check_loops(input_str):\n",
    "    input_str = str(input_str)\n",
    "    if \"loops\" in input_str.lower():\n",
    "        return 1\n",
    "    return 0\n"
   ]
  },
  {
   "cell_type": "code",
   "execution_count": 54,
   "metadata": {},
   "outputs": [],
   "source": [
    "sepsis_data[\"AB_soft\"] = 0\n",
    "sepsis_data.loc[:, 'AB_soft'] = sepsis_data.abdominal_assess.apply(check_soft)\n",
    "\n",
    "sepsis_data[\"AB_distended\"] = 0\n",
    "sepsis_data.loc[:, 'AB_distended'] = sepsis_data.abdominal_assess.apply(check_distended)\n",
    "\n",
    "sepsis_data[\"AB_obese\"] = 0\n",
    "sepsis_data.loc[:, 'AB_obese'] = sepsis_data.abdominal_assess.apply(check_obese)\n",
    "\n",
    "sepsis_data[\"AB_tender\"] = 0\n",
    "sepsis_data.loc[:, 'AB_tender'] = sepsis_data.abdominal_assess.apply(check_tender)\n",
    "\n",
    "sepsis_data[\"AB_ascites\"] = 0\n",
    "sepsis_data.loc[:, 'AB_ascites'] = sepsis_data.abdominal_assess.apply(check_ascites)\n",
    "\n",
    "sepsis_data[\"AB_discolored\"] = 0\n",
    "sepsis_data.loc[:, 'AB_discolored'] = sepsis_data.abdominal_assess.apply(check_discolored)\n",
    "\n",
    "sepsis_data[\"AB_firm\"] = 0\n",
    "sepsis_data.loc[:, 'AB_firm'] = sepsis_data.abdominal_assess.apply(check_firm)\n",
    "\n",
    "sepsis_data[\"AB_flatus\"] = 0\n",
    "sepsis_data.loc[:, 'AB_flatus'] = sepsis_data.abdominal_assess.apply(check_flatus)\n",
    "\n",
    "sepsis_data[\"AB_round\"] = 0\n",
    "sepsis_data.loc[:, 'AB_round'] = sepsis_data.abdominal_assess.apply(check_round)\n",
    "\n",
    "sepsis_data[\"AB_flat\"] = 0\n",
    "sepsis_data.loc[:, 'AB_flat'] = sepsis_data.abdominal_assess.apply(check_flat)\n",
    "\n",
    "sepsis_data[\"AB_scaphoid\"] = 0\n",
    "sepsis_data.loc[:, 'AB_scaphoid'] = sepsis_data.abdominal_assess.apply(check_scaphoid)\n",
    "\n",
    "sepsis_data[\"AB_full\"] = 0\n",
    "sepsis_data.loc[:, 'AB_full'] = sepsis_data.abdominal_assess.apply(check_full)\n",
    "\n",
    "sepsis_data[\"AB_non-tender\"] = 0\n",
    "sepsis_data.loc[:, 'AB_non-tender'] = sepsis_data.abdominal_assess.apply(check_nontender)\n",
    "\n",
    "sepsis_data[\"AB_gravid\"] = 0\n",
    "sepsis_data.loc[:, 'AB_gravid'] = sepsis_data.abdominal_assess.apply(check_gravid)\n",
    "\n",
    "sepsis_data[\"AB_loops\"] = 0\n",
    "sepsis_data.loc[:, 'AB_loops'] = sepsis_data.abdominal_assess.apply(check_loops)\n"
   ]
  },
  {
   "cell_type": "code",
   "execution_count": 55,
   "metadata": {},
   "outputs": [],
   "source": [
    "sepsis_data.to_csv('checkitout.csv')\n"
   ]
  }
 ],
 "metadata": {
  "kernelspec": {
   "display_name": "Python 3",
   "language": "python",
   "name": "python3"
  },
  "language_info": {
   "codemirror_mode": {
    "name": "ipython",
    "version": 3
   },
   "file_extension": ".py",
   "mimetype": "text/x-python",
   "name": "python",
   "nbconvert_exporter": "python",
   "pygments_lexer": "ipython3",
   "version": "3.5.3"
  }
 },
 "nbformat": 4,
 "nbformat_minor": 1
}
